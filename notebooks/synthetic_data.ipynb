{
 "cells": [
  {
   "cell_type": "code",
   "execution_count": 17,
   "metadata": {
    "collapsed": true,
    "ExecuteTime": {
     "end_time": "2024-08-23T08:15:53.952946Z",
     "start_time": "2024-08-23T08:15:53.934713Z"
    }
   },
   "outputs": [
    {
     "data": {
      "text/plain": "            1         2         3         4         5         6         7   \\\n0    -1.002388 -1.153842 -1.689717 -1.591207 -2.198869 -1.218741 -1.021193   \n1     2.300292  2.054176  0.654455  0.432740  2.500000  2.185950  2.500000   \n2    -0.218931 -0.219003  0.392896  1.590406  1.637891  1.054559  0.204761   \n3     0.239439 -0.555784  0.970629 -0.278846  1.426454  0.763015  0.647401   \n4     1.465083  1.411186 -0.031690 -0.429587 -0.592471  0.218205  1.374044   \n...        ...       ...       ...       ...       ...       ...       ...   \n1995 -0.780668  0.185577  0.741944  1.467525 -0.152930  0.269904  0.387794   \n1996 -1.229072 -0.630826 -1.730775 -1.487419 -1.021030 -1.871527 -1.476404   \n1997  0.901566  0.828429  1.804260  1.146357  0.476770  0.564665  0.680933   \n1998  0.143354  0.082367  0.267493 -0.549626  0.124704 -0.852645  1.717698   \n1999 -0.305725  0.424607  0.020994  0.577645 -0.799738  0.232222 -1.222823   \n\n            8         9         10  ...        21        22        23  \\\n0    -1.921186 -0.830534 -1.293703  ...  1.934008  1.626153  2.254498   \n1     0.999045  2.500000  1.834949  ... -1.112134 -0.785854 -0.067828   \n2     0.296159  0.534972 -0.110044  ... -2.366773 -0.132697 -0.284187   \n3     0.035322  0.748140  0.640731  ... -1.283346 -2.500000 -1.161551   \n4     1.033817  1.143093  0.585513  ... -0.031910  0.023663 -0.247120   \n...        ...       ...       ...  ...       ...       ...       ...   \n1995  0.368488  1.569149  0.182011  ...  1.616366  0.558311  1.120472   \n1996 -2.018067 -0.412612 -0.301728  ... -0.732515  0.220307 -1.406922   \n1997  0.140176  1.482964  1.541697  ...  0.019390  0.679264  0.530607   \n1998  0.135873 -0.245046  0.403029  ...  1.813848  0.358661  0.377175   \n1999  0.712128  1.130346  0.442725  ... -1.403387 -0.053838  0.102527   \n\n            24        25        26        27        28        29        30  \n0     1.379249  0.838128  0.182266  2.122122  1.074466  1.667598  1.305231  \n1    -0.272249 -0.005966  0.023397 -0.177265  0.444406  0.714334  0.412917  \n2    -0.111117 -0.116168 -0.541848 -0.493288 -1.261793 -0.876211 -0.660513  \n3    -1.619342 -1.065846 -2.016316 -0.587726 -0.609948 -0.640994 -1.441232  \n4     0.510007 -0.335710 -0.641410 -1.357639 -0.269618 -0.936559 -0.903473  \n...        ...       ...       ...       ...       ...       ...       ...  \n1995 -0.241217  0.547155  0.433571  0.206292  0.843564 -1.094648  0.028489  \n1996 -0.235610  0.670852 -0.260360  0.001478 -0.329981 -0.987782 -0.635334  \n1997  2.137807  1.655895  1.133427  1.697084  1.350135  0.913814  1.781905  \n1998  0.388133 -0.032060  0.842295  0.548184  0.584648  0.403399  0.464973  \n1999 -0.901115 -1.537237 -1.112909  0.530548 -1.469840 -1.346181 -0.072374  \n\n[2000 rows x 30 columns]",
      "text/html": "<div>\n<style scoped>\n    .dataframe tbody tr th:only-of-type {\n        vertical-align: middle;\n    }\n\n    .dataframe tbody tr th {\n        vertical-align: top;\n    }\n\n    .dataframe thead th {\n        text-align: right;\n    }\n</style>\n<table border=\"1\" class=\"dataframe\">\n  <thead>\n    <tr style=\"text-align: right;\">\n      <th></th>\n      <th>1</th>\n      <th>2</th>\n      <th>3</th>\n      <th>4</th>\n      <th>5</th>\n      <th>6</th>\n      <th>7</th>\n      <th>8</th>\n      <th>9</th>\n      <th>10</th>\n      <th>...</th>\n      <th>21</th>\n      <th>22</th>\n      <th>23</th>\n      <th>24</th>\n      <th>25</th>\n      <th>26</th>\n      <th>27</th>\n      <th>28</th>\n      <th>29</th>\n      <th>30</th>\n    </tr>\n  </thead>\n  <tbody>\n    <tr>\n      <th>0</th>\n      <td>-1.002388</td>\n      <td>-1.153842</td>\n      <td>-1.689717</td>\n      <td>-1.591207</td>\n      <td>-2.198869</td>\n      <td>-1.218741</td>\n      <td>-1.021193</td>\n      <td>-1.921186</td>\n      <td>-0.830534</td>\n      <td>-1.293703</td>\n      <td>...</td>\n      <td>1.934008</td>\n      <td>1.626153</td>\n      <td>2.254498</td>\n      <td>1.379249</td>\n      <td>0.838128</td>\n      <td>0.182266</td>\n      <td>2.122122</td>\n      <td>1.074466</td>\n      <td>1.667598</td>\n      <td>1.305231</td>\n    </tr>\n    <tr>\n      <th>1</th>\n      <td>2.300292</td>\n      <td>2.054176</td>\n      <td>0.654455</td>\n      <td>0.432740</td>\n      <td>2.500000</td>\n      <td>2.185950</td>\n      <td>2.500000</td>\n      <td>0.999045</td>\n      <td>2.500000</td>\n      <td>1.834949</td>\n      <td>...</td>\n      <td>-1.112134</td>\n      <td>-0.785854</td>\n      <td>-0.067828</td>\n      <td>-0.272249</td>\n      <td>-0.005966</td>\n      <td>0.023397</td>\n      <td>-0.177265</td>\n      <td>0.444406</td>\n      <td>0.714334</td>\n      <td>0.412917</td>\n    </tr>\n    <tr>\n      <th>2</th>\n      <td>-0.218931</td>\n      <td>-0.219003</td>\n      <td>0.392896</td>\n      <td>1.590406</td>\n      <td>1.637891</td>\n      <td>1.054559</td>\n      <td>0.204761</td>\n      <td>0.296159</td>\n      <td>0.534972</td>\n      <td>-0.110044</td>\n      <td>...</td>\n      <td>-2.366773</td>\n      <td>-0.132697</td>\n      <td>-0.284187</td>\n      <td>-0.111117</td>\n      <td>-0.116168</td>\n      <td>-0.541848</td>\n      <td>-0.493288</td>\n      <td>-1.261793</td>\n      <td>-0.876211</td>\n      <td>-0.660513</td>\n    </tr>\n    <tr>\n      <th>3</th>\n      <td>0.239439</td>\n      <td>-0.555784</td>\n      <td>0.970629</td>\n      <td>-0.278846</td>\n      <td>1.426454</td>\n      <td>0.763015</td>\n      <td>0.647401</td>\n      <td>0.035322</td>\n      <td>0.748140</td>\n      <td>0.640731</td>\n      <td>...</td>\n      <td>-1.283346</td>\n      <td>-2.500000</td>\n      <td>-1.161551</td>\n      <td>-1.619342</td>\n      <td>-1.065846</td>\n      <td>-2.016316</td>\n      <td>-0.587726</td>\n      <td>-0.609948</td>\n      <td>-0.640994</td>\n      <td>-1.441232</td>\n    </tr>\n    <tr>\n      <th>4</th>\n      <td>1.465083</td>\n      <td>1.411186</td>\n      <td>-0.031690</td>\n      <td>-0.429587</td>\n      <td>-0.592471</td>\n      <td>0.218205</td>\n      <td>1.374044</td>\n      <td>1.033817</td>\n      <td>1.143093</td>\n      <td>0.585513</td>\n      <td>...</td>\n      <td>-0.031910</td>\n      <td>0.023663</td>\n      <td>-0.247120</td>\n      <td>0.510007</td>\n      <td>-0.335710</td>\n      <td>-0.641410</td>\n      <td>-1.357639</td>\n      <td>-0.269618</td>\n      <td>-0.936559</td>\n      <td>-0.903473</td>\n    </tr>\n    <tr>\n      <th>...</th>\n      <td>...</td>\n      <td>...</td>\n      <td>...</td>\n      <td>...</td>\n      <td>...</td>\n      <td>...</td>\n      <td>...</td>\n      <td>...</td>\n      <td>...</td>\n      <td>...</td>\n      <td>...</td>\n      <td>...</td>\n      <td>...</td>\n      <td>...</td>\n      <td>...</td>\n      <td>...</td>\n      <td>...</td>\n      <td>...</td>\n      <td>...</td>\n      <td>...</td>\n      <td>...</td>\n    </tr>\n    <tr>\n      <th>1995</th>\n      <td>-0.780668</td>\n      <td>0.185577</td>\n      <td>0.741944</td>\n      <td>1.467525</td>\n      <td>-0.152930</td>\n      <td>0.269904</td>\n      <td>0.387794</td>\n      <td>0.368488</td>\n      <td>1.569149</td>\n      <td>0.182011</td>\n      <td>...</td>\n      <td>1.616366</td>\n      <td>0.558311</td>\n      <td>1.120472</td>\n      <td>-0.241217</td>\n      <td>0.547155</td>\n      <td>0.433571</td>\n      <td>0.206292</td>\n      <td>0.843564</td>\n      <td>-1.094648</td>\n      <td>0.028489</td>\n    </tr>\n    <tr>\n      <th>1996</th>\n      <td>-1.229072</td>\n      <td>-0.630826</td>\n      <td>-1.730775</td>\n      <td>-1.487419</td>\n      <td>-1.021030</td>\n      <td>-1.871527</td>\n      <td>-1.476404</td>\n      <td>-2.018067</td>\n      <td>-0.412612</td>\n      <td>-0.301728</td>\n      <td>...</td>\n      <td>-0.732515</td>\n      <td>0.220307</td>\n      <td>-1.406922</td>\n      <td>-0.235610</td>\n      <td>0.670852</td>\n      <td>-0.260360</td>\n      <td>0.001478</td>\n      <td>-0.329981</td>\n      <td>-0.987782</td>\n      <td>-0.635334</td>\n    </tr>\n    <tr>\n      <th>1997</th>\n      <td>0.901566</td>\n      <td>0.828429</td>\n      <td>1.804260</td>\n      <td>1.146357</td>\n      <td>0.476770</td>\n      <td>0.564665</td>\n      <td>0.680933</td>\n      <td>0.140176</td>\n      <td>1.482964</td>\n      <td>1.541697</td>\n      <td>...</td>\n      <td>0.019390</td>\n      <td>0.679264</td>\n      <td>0.530607</td>\n      <td>2.137807</td>\n      <td>1.655895</td>\n      <td>1.133427</td>\n      <td>1.697084</td>\n      <td>1.350135</td>\n      <td>0.913814</td>\n      <td>1.781905</td>\n    </tr>\n    <tr>\n      <th>1998</th>\n      <td>0.143354</td>\n      <td>0.082367</td>\n      <td>0.267493</td>\n      <td>-0.549626</td>\n      <td>0.124704</td>\n      <td>-0.852645</td>\n      <td>1.717698</td>\n      <td>0.135873</td>\n      <td>-0.245046</td>\n      <td>0.403029</td>\n      <td>...</td>\n      <td>1.813848</td>\n      <td>0.358661</td>\n      <td>0.377175</td>\n      <td>0.388133</td>\n      <td>-0.032060</td>\n      <td>0.842295</td>\n      <td>0.548184</td>\n      <td>0.584648</td>\n      <td>0.403399</td>\n      <td>0.464973</td>\n    </tr>\n    <tr>\n      <th>1999</th>\n      <td>-0.305725</td>\n      <td>0.424607</td>\n      <td>0.020994</td>\n      <td>0.577645</td>\n      <td>-0.799738</td>\n      <td>0.232222</td>\n      <td>-1.222823</td>\n      <td>0.712128</td>\n      <td>1.130346</td>\n      <td>0.442725</td>\n      <td>...</td>\n      <td>-1.403387</td>\n      <td>-0.053838</td>\n      <td>0.102527</td>\n      <td>-0.901115</td>\n      <td>-1.537237</td>\n      <td>-1.112909</td>\n      <td>0.530548</td>\n      <td>-1.469840</td>\n      <td>-1.346181</td>\n      <td>-0.072374</td>\n    </tr>\n  </tbody>\n</table>\n<p>2000 rows × 30 columns</p>\n</div>"
     },
     "execution_count": 17,
     "metadata": {},
     "output_type": "execute_result"
    }
   ],
   "source": [
    "# based on Hu et al. (2023) - Interpretable Machine Learning based on Functional ANOVA Framework: Algorithms and Comparisons\n",
    "# generate 20 variables from a multivariate gaussian distribution with mean 0, variance 1 and equal correlation 0.5 between all pairs\n",
    "import numpy as np\n",
    "import pandas as pd\n",
    "import matplotlib.pyplot as plt\n",
    "\n",
    "np.random.seed(0)\n",
    "n = 2000\n",
    "p = 20\n",
    "mean = np.zeros(p)\n",
    "cov = np.ones((p,p)) * 0.5 + np.eye(p) * 0.5 # creates a covariance matrix with 0.5 correlation between all pairs and variance 1 on the diagonal\n",
    "data_20 = np.random.multivariate_normal(mean, cov, n)\n",
    "# truncate in interval [-2.5, 2.5]\n",
    "data_20[data_20 > 2.5] = 2.5\n",
    "data_20[data_20 < -2.5] = -2.5\n",
    "df_20 = pd.DataFrame(data_20, columns=range(1, 21))\n",
    "\n",
    "# generate 10 more variables\n",
    "n = 2000\n",
    "p = 10\n",
    "mean = np.zeros(p)\n",
    "cov = np.ones((p,p)) * 0.5 + np.eye(p) * 0.5\n",
    "data_10 = np.random.multivariate_normal(mean, cov, n)\n",
    "# truncate in interval [-2.5, 2.5]\n",
    "data_10[data_10 > 2.5] = 2.5\n",
    "data_10[data_10 < -2.5] = -2.5\n",
    "# create a dataframe, starting the columns from 20\n",
    "df_10 = pd.DataFrame(data_10, columns=range(21, 31))\n",
    "\n",
    "# combine the two datasets\n",
    "X = pd.concat([df_20, df_10], axis=1)\n",
    "X"
   ]
  },
  {
   "cell_type": "code",
   "execution_count": 18,
   "outputs": [],
   "source": [
    "# calculate the following function based on the current instance of X:\n",
    "# y = \\sum_{j=1}^5x_j + 0.5*\\sum_{j=6}^8x_j^2+\\sum_{j=9}^{10} x_j I(x_j>0) + x_1x_2 + x_1x_3 + x_2x_3 + 0.5x_1x_2x_3 + x_4x_5 + x_4x_6 + x_5x_6 + 0.5I(x_4>0)x_5x_6\n",
    "\n",
    "def g(x):\n",
    "    y = np.sum(x[:,0:5], axis=1) + 0.5*np.sum(x[:,5:8]**2, axis=1) + np.sum(x[:,8:10] * (x[:,8:10] > 0), axis=1) + x[:,0]*x[:,1] + x[:,0]*x[:,2] + x[:,1]*x[:,2] + 0.5*x[:,0]*x[:,1]*x[:,2] + x[:,3]*x[:,4] + x[:,3]*x[:,5] + x[:,4]*x[:,5] + 0.5*(x[:,3]>0)*x[:,4]*x[:,5]\n",
    "    # add some noise N(0, 0.5^2)\n",
    "    y += np.random.normal(0, 0.5, y.shape)\n",
    "    return y"
   ],
   "metadata": {
    "collapsed": false,
    "ExecuteTime": {
     "end_time": "2024-08-23T08:16:01.500874800Z",
     "start_time": "2024-08-23T08:16:01.493572700Z"
    }
   }
  },
  {
   "cell_type": "code",
   "execution_count": 19,
   "outputs": [
    {
     "data": {
      "text/plain": "array([ 6.87553703, 37.21503678, 10.96846665, ..., 14.05859031,\n        2.17410318,  2.58094523])"
     },
     "execution_count": 19,
     "metadata": {},
     "output_type": "execute_result"
    }
   ],
   "source": [
    "# generate the target variable y\n",
    "y = g(X.values)\n",
    "y"
   ],
   "metadata": {
    "collapsed": false,
    "ExecuteTime": {
     "end_time": "2024-08-23T08:16:03.741986500Z",
     "start_time": "2024-08-23T08:16:03.736278500Z"
    }
   }
  },
  {
   "cell_type": "code",
   "execution_count": 20,
   "outputs": [],
   "source": [
    "# save the data\n",
    "X.to_csv('../datasets/synth_Hu4.csv', index=False)\n",
    "pd.DataFrame(y).to_csv('../datasets/synth_Hu4_y.csv', index=False)"
   ],
   "metadata": {
    "collapsed": false,
    "ExecuteTime": {
     "end_time": "2024-08-23T08:16:07.373940600Z",
     "start_time": "2024-08-23T08:16:07.321727500Z"
    }
   }
  }
 ],
 "metadata": {
  "kernelspec": {
   "display_name": "Python 3",
   "language": "python",
   "name": "python3"
  },
  "language_info": {
   "codemirror_mode": {
    "name": "ipython",
    "version": 2
   },
   "file_extension": ".py",
   "mimetype": "text/x-python",
   "name": "python",
   "nbconvert_exporter": "python",
   "pygments_lexer": "ipython2",
   "version": "2.7.6"
  }
 },
 "nbformat": 4,
 "nbformat_minor": 0
}
