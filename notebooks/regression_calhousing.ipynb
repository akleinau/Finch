{
 "cells": [
  {
   "cell_type": "code",
   "id": "initial_id",
   "metadata": {
    "collapsed": true,
    "ExecuteTime": {
     "end_time": "2025-02-04T09:20:07.924862Z",
     "start_time": "2025-02-04T09:20:07.911903Z"
    }
   },
   "source": [
    "import time\n",
    "import numpy as np\n",
    "from sklearn.model_selection import train_test_split\n",
    "from sklearn.ensemble import RandomForestRegressor, GradientBoostingRegressor\n",
    "from sklearn.neural_network import MLPClassifier, MLPRegressor\n",
    "import calculations.item_functions as feature\n",
    "import pandas as pd\n"
   ],
   "outputs": [],
   "execution_count": 26
  },
  {
   "metadata": {
    "ExecuteTime": {
     "end_time": "2025-02-04T08:41:44.184416Z",
     "start_time": "2025-02-04T08:41:44.041873Z"
    }
   },
   "cell_type": "code",
   "source": [
    "#bike sharing data\n",
    "data = pd.read_csv('../datasets/cal_housing.csv')\n",
    "y = data['medianHouseValue'] #> 75\n",
    "X = data.drop(['medianHouseValue'], axis=1)\n",
    "data"
   ],
   "id": "f81589f650801152",
   "outputs": [
    {
     "data": {
      "text/plain": [
       "       longitude  latitude  housingMedianAge  totalRooms  totalBedrooms  \\\n",
       "0        -122.23     37.88              41.0       880.0          129.0   \n",
       "1        -122.22     37.86              21.0      7099.0         1106.0   \n",
       "2        -122.24     37.85              52.0      1467.0          190.0   \n",
       "3        -122.25     37.85              52.0      1274.0          235.0   \n",
       "4        -122.25     37.85              52.0      1627.0          280.0   \n",
       "...          ...       ...               ...         ...            ...   \n",
       "20635    -121.09     39.48              25.0      1665.0          374.0   \n",
       "20636    -121.21     39.49              18.0       697.0          150.0   \n",
       "20637    -121.22     39.43              17.0      2254.0          485.0   \n",
       "20638    -121.32     39.43              18.0      1860.0          409.0   \n",
       "20639    -121.24     39.37              16.0      2785.0          616.0   \n",
       "\n",
       "       population  households  medianIncome  medianHouseValue  \n",
       "0           322.0       126.0        8.3252          452600.0  \n",
       "1          2401.0      1138.0        8.3014          358500.0  \n",
       "2           496.0       177.0        7.2574          352100.0  \n",
       "3           558.0       219.0        5.6431          341300.0  \n",
       "4           565.0       259.0        3.8462          342200.0  \n",
       "...           ...         ...           ...               ...  \n",
       "20635       845.0       330.0        1.5603           78100.0  \n",
       "20636       356.0       114.0        2.5568           77100.0  \n",
       "20637      1007.0       433.0        1.7000           92300.0  \n",
       "20638       741.0       349.0        1.8672           84700.0  \n",
       "20639      1387.0       530.0        2.3886           89400.0  \n",
       "\n",
       "[20640 rows x 9 columns]"
      ],
      "text/html": [
       "<div>\n",
       "<style scoped>\n",
       "    .dataframe tbody tr th:only-of-type {\n",
       "        vertical-align: middle;\n",
       "    }\n",
       "\n",
       "    .dataframe tbody tr th {\n",
       "        vertical-align: top;\n",
       "    }\n",
       "\n",
       "    .dataframe thead th {\n",
       "        text-align: right;\n",
       "    }\n",
       "</style>\n",
       "<table border=\"1\" class=\"dataframe\">\n",
       "  <thead>\n",
       "    <tr style=\"text-align: right;\">\n",
       "      <th></th>\n",
       "      <th>longitude</th>\n",
       "      <th>latitude</th>\n",
       "      <th>housingMedianAge</th>\n",
       "      <th>totalRooms</th>\n",
       "      <th>totalBedrooms</th>\n",
       "      <th>population</th>\n",
       "      <th>households</th>\n",
       "      <th>medianIncome</th>\n",
       "      <th>medianHouseValue</th>\n",
       "    </tr>\n",
       "  </thead>\n",
       "  <tbody>\n",
       "    <tr>\n",
       "      <th>0</th>\n",
       "      <td>-122.23</td>\n",
       "      <td>37.88</td>\n",
       "      <td>41.0</td>\n",
       "      <td>880.0</td>\n",
       "      <td>129.0</td>\n",
       "      <td>322.0</td>\n",
       "      <td>126.0</td>\n",
       "      <td>8.3252</td>\n",
       "      <td>452600.0</td>\n",
       "    </tr>\n",
       "    <tr>\n",
       "      <th>1</th>\n",
       "      <td>-122.22</td>\n",
       "      <td>37.86</td>\n",
       "      <td>21.0</td>\n",
       "      <td>7099.0</td>\n",
       "      <td>1106.0</td>\n",
       "      <td>2401.0</td>\n",
       "      <td>1138.0</td>\n",
       "      <td>8.3014</td>\n",
       "      <td>358500.0</td>\n",
       "    </tr>\n",
       "    <tr>\n",
       "      <th>2</th>\n",
       "      <td>-122.24</td>\n",
       "      <td>37.85</td>\n",
       "      <td>52.0</td>\n",
       "      <td>1467.0</td>\n",
       "      <td>190.0</td>\n",
       "      <td>496.0</td>\n",
       "      <td>177.0</td>\n",
       "      <td>7.2574</td>\n",
       "      <td>352100.0</td>\n",
       "    </tr>\n",
       "    <tr>\n",
       "      <th>3</th>\n",
       "      <td>-122.25</td>\n",
       "      <td>37.85</td>\n",
       "      <td>52.0</td>\n",
       "      <td>1274.0</td>\n",
       "      <td>235.0</td>\n",
       "      <td>558.0</td>\n",
       "      <td>219.0</td>\n",
       "      <td>5.6431</td>\n",
       "      <td>341300.0</td>\n",
       "    </tr>\n",
       "    <tr>\n",
       "      <th>4</th>\n",
       "      <td>-122.25</td>\n",
       "      <td>37.85</td>\n",
       "      <td>52.0</td>\n",
       "      <td>1627.0</td>\n",
       "      <td>280.0</td>\n",
       "      <td>565.0</td>\n",
       "      <td>259.0</td>\n",
       "      <td>3.8462</td>\n",
       "      <td>342200.0</td>\n",
       "    </tr>\n",
       "    <tr>\n",
       "      <th>...</th>\n",
       "      <td>...</td>\n",
       "      <td>...</td>\n",
       "      <td>...</td>\n",
       "      <td>...</td>\n",
       "      <td>...</td>\n",
       "      <td>...</td>\n",
       "      <td>...</td>\n",
       "      <td>...</td>\n",
       "      <td>...</td>\n",
       "    </tr>\n",
       "    <tr>\n",
       "      <th>20635</th>\n",
       "      <td>-121.09</td>\n",
       "      <td>39.48</td>\n",
       "      <td>25.0</td>\n",
       "      <td>1665.0</td>\n",
       "      <td>374.0</td>\n",
       "      <td>845.0</td>\n",
       "      <td>330.0</td>\n",
       "      <td>1.5603</td>\n",
       "      <td>78100.0</td>\n",
       "    </tr>\n",
       "    <tr>\n",
       "      <th>20636</th>\n",
       "      <td>-121.21</td>\n",
       "      <td>39.49</td>\n",
       "      <td>18.0</td>\n",
       "      <td>697.0</td>\n",
       "      <td>150.0</td>\n",
       "      <td>356.0</td>\n",
       "      <td>114.0</td>\n",
       "      <td>2.5568</td>\n",
       "      <td>77100.0</td>\n",
       "    </tr>\n",
       "    <tr>\n",
       "      <th>20637</th>\n",
       "      <td>-121.22</td>\n",
       "      <td>39.43</td>\n",
       "      <td>17.0</td>\n",
       "      <td>2254.0</td>\n",
       "      <td>485.0</td>\n",
       "      <td>1007.0</td>\n",
       "      <td>433.0</td>\n",
       "      <td>1.7000</td>\n",
       "      <td>92300.0</td>\n",
       "    </tr>\n",
       "    <tr>\n",
       "      <th>20638</th>\n",
       "      <td>-121.32</td>\n",
       "      <td>39.43</td>\n",
       "      <td>18.0</td>\n",
       "      <td>1860.0</td>\n",
       "      <td>409.0</td>\n",
       "      <td>741.0</td>\n",
       "      <td>349.0</td>\n",
       "      <td>1.8672</td>\n",
       "      <td>84700.0</td>\n",
       "    </tr>\n",
       "    <tr>\n",
       "      <th>20639</th>\n",
       "      <td>-121.24</td>\n",
       "      <td>39.37</td>\n",
       "      <td>16.0</td>\n",
       "      <td>2785.0</td>\n",
       "      <td>616.0</td>\n",
       "      <td>1387.0</td>\n",
       "      <td>530.0</td>\n",
       "      <td>2.3886</td>\n",
       "      <td>89400.0</td>\n",
       "    </tr>\n",
       "  </tbody>\n",
       "</table>\n",
       "<p>20640 rows × 9 columns</p>\n",
       "</div>"
      ]
     },
     "execution_count": 4,
     "metadata": {},
     "output_type": "execute_result"
    }
   ],
   "execution_count": 4
  },
  {
   "metadata": {
    "ExecuteTime": {
     "end_time": "2025-02-04T09:20:13.787375Z",
     "start_time": "2025-02-04T09:20:10.299675Z"
    }
   },
   "cell_type": "code",
   "source": [
    "X = X.select_dtypes(include=[np.number]) #filter X to only include numeric columns\n",
    "X = X.fillna(X.mean()) #fill NaN values with the mean of the column\n",
    "\n",
    "\n",
    "X_train, X_test, y_train, y_test = train_test_split(X, y, test_size=0.2, random_state=0)\n",
    "\n",
    "X_test = X_test.reset_index(drop=True)\n",
    "y_test = y_test.reset_index(drop=True)\n",
    "\n",
    "X_train_means = X_train.mean().to_frame().T\n",
    "\n",
    "COLUMNS = X_train.columns\n",
    "\n",
    "#regression\n",
    "nn = GradientBoostingRegressor()\n",
    "#nn = MLPRegressor(solver=\"adam\", alpha=1e-1, hidden_layer_sizes=(10, 15, 20, 20, 15, 10), random_state=0, max_iter=1000)\n",
    "nn.fit(X_train, y_train)\n",
    "\n",
    "def print_R2(f):\n",
    "    print(\n",
    "        \"R2 = {0}\".format(\n",
    "            f(X_test, y_test))\n",
    "    )\n",
    "    time.sleep(0.5)  # to let the print get out before any progress bars\n",
    "    \n",
    "print_R2(nn.score)"
   ],
   "id": "2a821595505ce4cc",
   "outputs": [
    {
     "name": "stdout",
     "output_type": "stream",
     "text": [
      "R2 = 0.7687785763416113\n"
     ]
    }
   ],
   "execution_count": 27
  },
  {
   "metadata": {
    "ExecuteTime": {
     "end_time": "2025-02-04T09:20:16.790304Z",
     "start_time": "2025-02-04T09:20:16.734490Z"
    }
   },
   "cell_type": "code",
   "source": [
    "import pickle\n",
    "\n",
    "with open('../datasets/cal_housing_nn.pkl', 'wb') as file:\n",
    "\n",
    "    # A new file will be created\n",
    "    pickle.dump(nn, file)"
   ],
   "id": "356b0309db69d7b1",
   "outputs": [],
   "execution_count": 28
  },
  {
   "metadata": {
    "ExecuteTime": {
     "end_time": "2025-02-04T09:14:02.997171Z",
     "start_time": "2025-02-04T09:14:02.840323Z"
    }
   },
   "cell_type": "code",
   "source": [
    "with open('../datasets/cal_housing_train.csv', 'wb') as file:\n",
    "    \n",
    "        # A new file will be created\n",
    "        X_train.to_csv(file, index=False)"
   ],
   "id": "52098d7526bf0ae6",
   "outputs": [],
   "execution_count": 16
  },
  {
   "metadata": {
    "ExecuteTime": {
     "end_time": "2025-02-04T09:14:04.836095Z",
     "start_time": "2025-02-04T09:14:04.790254Z"
    }
   },
   "cell_type": "code",
   "source": [
    "with open('../datasets/cal_housing_traintruth.csv', 'wb') as file:\n",
    "    \n",
    "    y_train.to_csv(file, index=False)"
   ],
   "id": "c73e0971b7e57495",
   "outputs": [],
   "execution_count": 17
  }
 ],
 "metadata": {
  "kernelspec": {
   "display_name": "Python 3",
   "language": "python",
   "name": "python3"
  },
  "language_info": {
   "codemirror_mode": {
    "name": "ipython",
    "version": 2
   },
   "file_extension": ".py",
   "mimetype": "text/x-python",
   "name": "python",
   "nbconvert_exporter": "python",
   "pygments_lexer": "ipython2",
   "version": "2.7.6"
  }
 },
 "nbformat": 4,
 "nbformat_minor": 5
}
