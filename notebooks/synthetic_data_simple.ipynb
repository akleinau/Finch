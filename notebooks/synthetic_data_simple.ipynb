{
 "cells": [
  {
   "cell_type": "code",
   "metadata": {
    "collapsed": true,
    "ExecuteTime": {
     "end_time": "2024-09-18T19:18:06.680964500Z",
     "start_time": "2024-09-18T19:18:06.664110300Z"
    }
   },
   "source": [
    "# based on Hu et al. (2023) - Interpretable Machine Learning based on Functional ANOVA Framework: Algorithms and Comparisons\n",
    "# generate 20 variables from a multivariate gaussian distribution with mean 0, variance 1 and equal correlation 0.5 between all pairs\n",
    "import numpy as np\n",
    "import pandas as pd\n",
    "import matplotlib.pyplot as plt\n",
    "\n",
    "np.random.seed(0)\n",
    "n = 50000\n",
    "p = 5\n",
    "mean = np.zeros(p)\n",
    "cov = np.eye(p) * 1\n",
    "data_1 = np.random.uniform(-10, 10, (n,5))\n",
    "\n",
    "# convert the third variable to binary\n",
    "data_1[:,2] = data_1[:,2] > 0\n",
    "\n",
    "df_1 = pd.DataFrame(data_1, columns=range(1, 6))\n",
    "\n",
    "X = df_1\n",
    "\n",
    "X"
   ],
   "outputs": [
    {
     "data": {
      "text/plain": "              1         2    3         4         5\n0      0.976270  4.303787  1.0  0.897664 -1.526904\n1      2.917882 -1.248256  1.0  9.273255 -2.331170\n2      5.834501  0.577898  1.0  8.511933 -8.579279\n3     -8.257414 -9.595632  1.0  5.563135  7.400243\n4      9.572367  5.983171  0.0  5.610584 -7.634511\n...         ...       ...  ...       ...       ...\n49995 -9.475664 -7.271856  1.0 -9.777891 -9.852915\n49996 -0.685152  9.655945  1.0 -6.463290 -1.073905\n49997  1.166609 -3.626038  1.0  6.137266  4.131466\n49998  8.548069 -4.288111  0.0  0.503848  0.171402\n49999  7.582149 -6.329060  1.0  3.738604 -6.313946\n\n[50000 rows x 5 columns]",
      "text/html": "<div>\n<style scoped>\n    .dataframe tbody tr th:only-of-type {\n        vertical-align: middle;\n    }\n\n    .dataframe tbody tr th {\n        vertical-align: top;\n    }\n\n    .dataframe thead th {\n        text-align: right;\n    }\n</style>\n<table border=\"1\" class=\"dataframe\">\n  <thead>\n    <tr style=\"text-align: right;\">\n      <th></th>\n      <th>1</th>\n      <th>2</th>\n      <th>3</th>\n      <th>4</th>\n      <th>5</th>\n    </tr>\n  </thead>\n  <tbody>\n    <tr>\n      <th>0</th>\n      <td>0.976270</td>\n      <td>4.303787</td>\n      <td>1.0</td>\n      <td>0.897664</td>\n      <td>-1.526904</td>\n    </tr>\n    <tr>\n      <th>1</th>\n      <td>2.917882</td>\n      <td>-1.248256</td>\n      <td>1.0</td>\n      <td>9.273255</td>\n      <td>-2.331170</td>\n    </tr>\n    <tr>\n      <th>2</th>\n      <td>5.834501</td>\n      <td>0.577898</td>\n      <td>1.0</td>\n      <td>8.511933</td>\n      <td>-8.579279</td>\n    </tr>\n    <tr>\n      <th>3</th>\n      <td>-8.257414</td>\n      <td>-9.595632</td>\n      <td>1.0</td>\n      <td>5.563135</td>\n      <td>7.400243</td>\n    </tr>\n    <tr>\n      <th>4</th>\n      <td>9.572367</td>\n      <td>5.983171</td>\n      <td>0.0</td>\n      <td>5.610584</td>\n      <td>-7.634511</td>\n    </tr>\n    <tr>\n      <th>...</th>\n      <td>...</td>\n      <td>...</td>\n      <td>...</td>\n      <td>...</td>\n      <td>...</td>\n    </tr>\n    <tr>\n      <th>49995</th>\n      <td>-9.475664</td>\n      <td>-7.271856</td>\n      <td>1.0</td>\n      <td>-9.777891</td>\n      <td>-9.852915</td>\n    </tr>\n    <tr>\n      <th>49996</th>\n      <td>-0.685152</td>\n      <td>9.655945</td>\n      <td>1.0</td>\n      <td>-6.463290</td>\n      <td>-1.073905</td>\n    </tr>\n    <tr>\n      <th>49997</th>\n      <td>1.166609</td>\n      <td>-3.626038</td>\n      <td>1.0</td>\n      <td>6.137266</td>\n      <td>4.131466</td>\n    </tr>\n    <tr>\n      <th>49998</th>\n      <td>8.548069</td>\n      <td>-4.288111</td>\n      <td>0.0</td>\n      <td>0.503848</td>\n      <td>0.171402</td>\n    </tr>\n    <tr>\n      <th>49999</th>\n      <td>7.582149</td>\n      <td>-6.329060</td>\n      <td>1.0</td>\n      <td>3.738604</td>\n      <td>-6.313946</td>\n    </tr>\n  </tbody>\n</table>\n<p>50000 rows × 5 columns</p>\n</div>"
     },
     "execution_count": 32,
     "metadata": {},
     "output_type": "execute_result"
    }
   ],
   "execution_count": 32
  },
  {
   "cell_type": "code",
   "source": [
    "# calculate the following function based on the current instance of X:\n",
    "# y = x_1 + x_1x_2  0.5I(x_3>0)x_4x_5\n",
    "\n",
    "def g(x):\n",
    "    y = x[:,0] + x[:,0]*x[:,1]*(x[:,2]>0)\n",
    "    # add some noise N(0, 0.5^2)\n",
    "    #y += np.random.normal(0, 0.5, y.shape)\n",
    "    return y"
   ],
   "metadata": {
    "collapsed": false,
    "ExecuteTime": {
     "end_time": "2024-09-18T19:05:43.385063400Z",
     "start_time": "2024-09-18T19:05:43.380677200Z"
    }
   },
   "outputs": [],
   "execution_count": 29
  },
  {
   "cell_type": "code",
   "source": [
    "# generate the target variable y\n",
    "y = g(X.values)\n",
    "y"
   ],
   "metadata": {
    "collapsed": false,
    "ExecuteTime": {
     "end_time": "2024-09-18T19:18:11.377442600Z",
     "start_time": "2024-09-18T19:18:11.372097Z"
    }
   },
   "outputs": [
    {
     "data": {
      "text/plain": "array([  5.17792887,  -0.72438112,   9.20624939, ...,  -3.06355879,\n         8.54806921, -40.40572481])"
     },
     "execution_count": 33,
     "metadata": {},
     "output_type": "execute_result"
    }
   ],
   "execution_count": 33
  },
  {
   "cell_type": "code",
   "source": [
    "# save the data\n",
    "X.to_csv('../datasets/synth_simple.csv', index=False)\n",
    "pd.DataFrame(y).to_csv('../datasets/synth_simple_y.csv', index=False)"
   ],
   "metadata": {
    "collapsed": false,
    "ExecuteTime": {
     "end_time": "2024-09-18T19:18:13.916104700Z",
     "start_time": "2024-09-18T19:18:13.723163900Z"
    }
   },
   "outputs": [],
   "execution_count": 34
  }
 ],
 "metadata": {
  "kernelspec": {
   "display_name": "Python 3",
   "language": "python",
   "name": "python3"
  },
  "language_info": {
   "codemirror_mode": {
    "name": "ipython",
    "version": 2
   },
   "file_extension": ".py",
   "mimetype": "text/x-python",
   "name": "python",
   "nbconvert_exporter": "python",
   "pygments_lexer": "ipython2",
   "version": "2.7.6"
  }
 },
 "nbformat": 4,
 "nbformat_minor": 0
}
